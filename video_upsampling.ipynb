{
 "cells": [
  {
   "cell_type": "code",
   "execution_count": 5,
   "id": "0cc6ef3b",
   "metadata": {},
   "outputs": [],
   "source": [
    "import ffmpeg\n",
    "import cv2\n",
    "import numpy as np\n",
    "import os\n",
    "import numpy.linalg as la\n",
    "import utils\n",
    "%matplotlib inline\n",
    "from matplotlib import pyplot as plt\n",
    "\n",
    "from random import random\n",
    "import time\n",
    "import scipy\n",
    "import scipy.ndimage as nd\n",
    "import seaborn as sns\n",
    "import pandas as pd\n",
    "import scipy.sparse.linalg\n",
    "from scipy import optimize\n",
    "import pwlf\n",
    "import upsample as us"
   ]
  },
  {
   "cell_type": "code",
   "execution_count": null,
   "id": "d3576b32",
   "metadata": {},
   "outputs": [
    {
     "name": "stdout",
     "output_type": "stream",
     "text": [
      "one iteration finished\n",
      "one iteration finished\n",
      "one iteration finished\n",
      "one iteration finished\n",
      "one iteration finished\n",
      "one iteration finished\n",
      "one iteration finished\n",
      "one iteration finished\n",
      "one iteration finished\n",
      "one iteration finished\n",
      "one iteration finished\n",
      "one iteration finished\n",
      "one iteration finished\n"
     ]
    }
   ],
   "source": [
    "if not os.path.exists(\"upsampled_frames\"):\n",
    "    os.mkdir(\"upsampled_frames\")\n",
    "    \n",
    "filenames = [f.path for f in os.scandir('Images/frames') if f.name.endswith(\".jpg\")]\n",
    "filenames.sort(key=lambda f: int(''.join(filter(str.isdigit, f))))\n",
    "\n",
    "for idx, file_i in enumerate(filenames):\n",
    "    merged_rgb, H_star = us.upsample_one_image(file_i)\n",
    "    cv2.imwrite(\"upsampled_frames/image-{:03d}.jpg\".format(idx), merged_rgb)"
   ]
  },
  {
   "cell_type": "code",
   "execution_count": null,
   "id": "9266c179",
   "metadata": {},
   "outputs": [],
   "source": [
    "utils.imageFolder2mpeg('upsampled_frames', fps=29)"
   ]
  }
 ],
 "metadata": {
  "kernelspec": {
   "display_name": "Python 3 (ipykernel)",
   "language": "python",
   "name": "python3"
  },
  "language_info": {
   "codemirror_mode": {
    "name": "ipython",
    "version": 3
   },
   "file_extension": ".py",
   "mimetype": "text/x-python",
   "name": "python",
   "nbconvert_exporter": "python",
   "pygments_lexer": "ipython3",
   "version": "3.9.7"
  }
 },
 "nbformat": 4,
 "nbformat_minor": 5
}
